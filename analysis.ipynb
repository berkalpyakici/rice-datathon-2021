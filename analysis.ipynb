{
 "cells": [
  {
   "cell_type": "code",
   "execution_count": null,
   "id": "eligible-insulin",
   "metadata": {},
   "outputs": [],
   "source": [
    "import pandas as pd\n",
    "import numpy as np\n",
    "from collections import Counter\n",
    "from tqdm.notebook import tqdm"
   ]
  },
  {
   "cell_type": "code",
   "execution_count": null,
   "id": "geological-better",
   "metadata": {},
   "outputs": [],
   "source": [
    "# Load our data.\n",
    "df = pd.read_csv(\"data/Normalized_Purchase_Card_Transactions.csv\")\n",
    "df_agencies = pd.read_csv(\"data/List_Agencies.csv\")\n",
    "df_vendors = pd.read_csv(\"data/List_Vendors.csv\")"
   ]
  },
  {
   "cell_type": "code",
   "execution_count": null,
   "id": "crazy-chemistry",
   "metadata": {},
   "outputs": [],
   "source": [
    "blank = np.zeros((df['AGENCY_NUM'].max() + 1, df['VENDOR_NAME_NUM'].max() + 1))\n",
    "\n",
    "for index, row in tqdm(df.iterrows(), total = df.shape[0]):\n",
    "    blank[row['AGENCY_NUM'], row['VENDOR_NAME_NUM']] += 1\n",
    "\n",
    "np.count_nonzero(blank)"
   ]
  },
  {
   "cell_type": "code",
   "execution_count": null,
   "id": "stainless-matrix",
   "metadata": {},
   "outputs": [],
   "source": [
    "wordCounts = pd.DataFrame(blank)\n",
    "\n",
    "bags = {i: df[df['AGENCY_NUM'] == i]['VENDOR_NAME_NUM'].unique() for i in df['AGENCY_NUM'].unique()}"
   ]
  },
  {
   "cell_type": "code",
   "execution_count": null,
   "id": "personal-editing",
   "metadata": {},
   "outputs": [],
   "source": [
    "def tf(counts):\n",
    "    tfDF = pd.DataFrame()\n",
    "    \n",
    "    for index, row in counts.iterrows():\n",
    "        tfDF[index] = row.div(row.sum())\n",
    "        \n",
    "    return tfDF\n",
    "\n",
    "tf = pd.DataFrame(tf(wordCounts)).T"
   ]
  },
  {
   "cell_type": "code",
   "execution_count": null,
   "id": "loved-projector",
   "metadata": {},
   "outputs": [],
   "source": [
    "idf = tf.apply(lambda x: np.log((df['AGENCY_NUM'].max() + 1) / np.count_nonzero(x.to_numpy())), axis=0)"
   ]
  },
  {
   "cell_type": "code",
   "execution_count": null,
   "id": "worthy-journey",
   "metadata": {},
   "outputs": [],
   "source": [
    "prod = tf*idf"
   ]
  },
  {
   "cell_type": "code",
   "execution_count": null,
   "id": "designed-living",
   "metadata": {},
   "outputs": [],
   "source": [
    "from sklearn.metrics.pairwise import cosine_similarity\n",
    "\n",
    "similarity = cosine_similarity(prod).astype(\"float\")\n",
    "for i in range(len(similarity)):\n",
    "    similarity[i][i] = 0"
   ]
  },
  {
   "cell_type": "code",
   "execution_count": null,
   "id": "orange-figure",
   "metadata": {},
   "outputs": [],
   "source": [
    "mostsimilar = np.argmax(similarity, axis=1)\n",
    "mostsimilar_verbose = np.array([df_agencies.iloc[i][1] for i in mostsimilar])\n",
    "mostsimilar_vendors = np.array([bags[i] for i in mostsimilar], dtype = object)"
   ]
  },
  {
   "cell_type": "code",
   "execution_count": null,
   "id": "female-solomon",
   "metadata": {},
   "outputs": [],
   "source": [
    "def summarize(agency = 0):\n",
    "    \"\"\"\n",
    "    Gives brief information on the agency and its most similar agency.\n",
    "    \"\"\"\n",
    "    agency_bag = bags[agency]\n",
    "    agency_bag_verbose = np.array([df_vendors.iloc[i][1] for i in agency_bag])\n",
    "    similar_agency_bag = bags[mostsimilar[agency]]\n",
    "    similar_agency_bag_verbose = np.array([df_vendors.iloc[i][1] for i in similar_agency_bag])\n",
    "    \n",
    "    print(\"Selected Agency:\", df_agencies.iloc[agency][1])\n",
    "    print(\"Most Similar Agency:\", mostsimilar_verbose[agency])\n",
    "    print()\n",
    "    print(\"Agency Vendors:\", agency_bag_verbose)\n",
    "    print()\n",
    "    print(\"Most Similar Agency Vendors:\", similar_agency_bag_verbose)"
   ]
  },
  {
   "cell_type": "code",
   "execution_count": null,
   "id": "sustained-optimum",
   "metadata": {},
   "outputs": [],
   "source": [
    "summarize(5)"
   ]
  }
 ],
 "metadata": {
  "kernelspec": {
   "display_name": "Python 3",
   "language": "python",
   "name": "python3"
  },
  "language_info": {
   "codemirror_mode": {
    "name": "ipython",
    "version": 3
   },
   "file_extension": ".py",
   "mimetype": "text/x-python",
   "name": "python",
   "nbconvert_exporter": "python",
   "pygments_lexer": "ipython3",
   "version": "3.9.1"
  }
 },
 "nbformat": 4,
 "nbformat_minor": 5
}
