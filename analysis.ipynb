{
 "cells": [
  {
   "cell_type": "code",
   "execution_count": 1,
   "id": "imposed-mechanism",
   "metadata": {},
   "outputs": [],
   "source": [
    "import pandas as pd\n",
    "import numpy as np\n",
    "from collections import Counter\n",
    "from tqdm.notebook import tqdm"
   ]
  },
  {
   "cell_type": "code",
   "execution_count": 21,
   "id": "incoming-setting",
   "metadata": {},
   "outputs": [],
   "source": [
    "# Load our data.\n",
    "df = pd.read_csv(\"data/Normalized_Purchase_Card_Transactions.csv\")\n",
    "df_agencies = pd.read_csv(\"data/List_Agencies.csv\")\n",
    "df_vendors = pd.read_csv(\"data/List_Vendors.csv\")"
   ]
  },
  {
   "cell_type": "code",
   "execution_count": 3,
   "id": "respective-omaha",
   "metadata": {},
   "outputs": [
    {
     "data": {
      "application/vnd.jupyter.widget-view+json": {
       "model_id": "43eedf8fa7e04ca9b0cd482a9573d5aa",
       "version_major": 2,
       "version_minor": 0
      },
      "text/plain": [
       "  0%|          | 0/390109 [00:00<?, ?it/s]"
      ]
     },
     "metadata": {},
     "output_type": "display_data"
    },
    {
     "data": {
      "text/plain": [
       "44494"
      ]
     },
     "execution_count": 3,
     "metadata": {},
     "output_type": "execute_result"
    }
   ],
   "source": [
    "blank = np.zeros((df['AGENCY_NUM'].max() + 1, df['VENDOR_NAME_NUM'].max() + 1))\n",
    "\n",
    "for index, row in tqdm(df.iterrows(), total = df.shape[0]):\n",
    "    blank[row['AGENCY_NUM'], row['VENDOR_NAME_NUM']] += row['TRANSACTION_AMOUNT_NORM']\n",
    "\n",
    "np.count_nonzero(blank)"
   ]
  },
  {
   "cell_type": "code",
   "execution_count": 4,
   "id": "dominican-trial",
   "metadata": {},
   "outputs": [],
   "source": [
    "wordCounts = pd.DataFrame(blank)\n",
    "\n",
    "bags = {i: df[df['AGENCY_NUM'] == i]['VENDOR_NAME_NUM'].unique() for i in df['AGENCY_NUM'].unique()}"
   ]
  },
  {
   "cell_type": "code",
   "execution_count": 5,
   "id": "ultimate-newfoundland",
   "metadata": {},
   "outputs": [],
   "source": [
    "def tf(counts):\n",
    "    tfDF = pd.DataFrame()\n",
    "    \n",
    "    for index, row in counts.iterrows():\n",
    "        tfDF[index] = row.div(row.sum())\n",
    "        \n",
    "    return tfDF\n",
    "\n",
    "tf = pd.DataFrame(tf(wordCounts)).T"
   ]
  },
  {
   "cell_type": "code",
   "execution_count": 9,
   "id": "hindu-ocean",
   "metadata": {},
   "outputs": [],
   "source": [
    "idf = tf.apply(lambda x: np.log((df['AGENCY_NUM'].max() + 1) / (np.count_nonzero(x.to_numpy())+1)), axis=0)"
   ]
  },
  {
   "cell_type": "code",
   "execution_count": 10,
   "id": "apart-record",
   "metadata": {},
   "outputs": [],
   "source": [
    "prod = tf*idf"
   ]
  },
  {
   "cell_type": "code",
   "execution_count": 11,
   "id": "dressed-eating",
   "metadata": {},
   "outputs": [],
   "source": [
    "from sklearn.metrics.pairwise import cosine_similarity\n",
    "\n",
    "similarity = cosine_similarity(prod).astype(\"float\")\n",
    "for i in range(len(similarity)):\n",
    "    similarity[i][i] = 0"
   ]
  },
  {
   "cell_type": "code",
   "execution_count": 12,
   "id": "organic-offense",
   "metadata": {},
   "outputs": [],
   "source": [
    "mostsimilar = np.argmax(similarity, axis=1)\n",
    "mostsimilar_verbose = np.array([df_agencies.iloc[i][1] for i in mostsimilar])\n",
    "mostsimilar_vendors = np.array([bags[i] for i in mostsimilar], dtype = object)"
   ]
  },
  {
   "cell_type": "code",
   "execution_count": 13,
   "id": "determined-portugal",
   "metadata": {},
   "outputs": [],
   "source": [
    "def summarize(agency = 0):\n",
    "    \"\"\"\n",
    "    Gives brief information on the agency and its most similar agency.\n",
    "    \"\"\"\n",
    "    agency_bag = bags[agency]\n",
    "    agency_bag_verbose = np.array([df_vendors.iloc[i][1] for i in agency_bag])\n",
    "    similar_agency_bag = bags[mostsimilar[agency]]\n",
    "    similar_agency_bag_verbose = np.array([df_vendors.iloc[i][1] for i in similar_agency_bag])\n",
    "    \n",
    "    print(\"Selected Agency:\", df_agencies.iloc[agency][1])\n",
    "    print(\"Most Similar Agency:\", mostsimilar_verbose[agency])\n",
    "    print()\n",
    "    print(\"Agency Vendors:\", agency_bag_verbose)\n",
    "    print()\n",
    "    print(\"Most Similar Agency Vendors:\", similar_agency_bag_verbose)"
   ]
  },
  {
   "cell_type": "code",
   "execution_count": 17,
   "id": "amended-hostel",
   "metadata": {
    "scrolled": false
   },
   "outputs": [
    {
     "name": "stdout",
     "output_type": "stream",
     "text": [
      "Selected Agency: Board of Real Property Assessment & Appeals\n",
      "Most Similar Agency: Commission of Judicial Disabilities & Tenure\n",
      "\n",
      "Agency Vendors: ['STANDARD_OFFICE_SUPPLY' 'LASER_ART_INC' 'FEDEX_'\n",
      " 'SUPRETECH_INCORPORATED' 'PAYPAL_CORPORATEEX' 'DUPONT_COMPUTER_INC'\n",
      " 'METROPOLITAN_OFFICE_PR' 'CAPITAL_SERVICES_AND_S' 'BENJAMIN_OFFICE_SU'\n",
      " 'PROBAR' 'SUPERIOR_COURIERS_LLC' 'DELTA_ASSOCIATES'\n",
      " 'GRAYMAR_BUSINESS_SOLUT' 'UNITEDBUSINESSTECH' 'STAR_OFFICE_PRODUCTS_I'\n",
      " 'DMI_DELL_KGOVT' 'DS_WATERS' 'HIGDON_INC' 'FLASH_GLASS__MIRROR_C'\n",
      " 'DS_WATERS_STANDARD_COF' 'THOMSON_WESTTCD' 'HENDERSON_PROFESSIO'\n",
      " 'MCKISSOCK_LP' 'APPRAISAL_INSTITUTE' 'US_FACILITIES_INC'\n",
      " 'BANNER_STAFFING' 'SQ_KARMIC_KOLLECTIONS' 'COSTAR_GROUP_INC'\n",
      " 'STAR_OFFICE_PRODUCTS' 'SQ_BWH_CONSULTANTS' 'GRTR_CPTL_ASSOC_REALTO'\n",
      " 'DC_BAR' 'MICROFRAME' 'PITNEY_BOWES' 'WASHINGTON_BIZ_JOURNAL'\n",
      " 'EDUCATION_TO_GO' 'PBILEASEDEQUIPMENT' 'SQ_SYLVIA_PARKER_E'\n",
      " 'DIGITAL_COPIER' 'MB_STAFFING_SERVIC' 'COMCAST_OF_WASHINGTON'\n",
      " 'DS_SERVICES_STANDARD_C' 'SQ_BWH_CONSULTANTS_AC' 'SQ_SERVICES_SYLVIA'\n",
      " 'MSFT_MICROSOFTSTORE' 'ACE_TRANSCRIPTION_SERV' 'TOTAL_TECHNOLOGIES'\n",
      " 'APLAPPLEONLINESTOREUS' 'MICROSOFT_STORE' 'MD_DEPT_OF_LICENSING'\n",
      " 'MICROSOFT_OFFICE_' 'DOCUMENT_MANAGERS' 'TPW_CONSULTANTS'\n",
      " 'AMERICAN_BUSINESS_SUPP' 'TOTAL_OFFICE_PRODUCTS' 'FEDEXOFFICE_'\n",
      " 'VUEDC_PROFESSIONAL_LC' 'INTL_LANGUAGE_INSTITU' 'RECORDER_OF_DEEDONLIN'\n",
      " 'SPECTRUM_MANAGEMENT_LL' 'DUPONT_COMPUTERS_INC' 'COMCAST' 'THOMSON_WEST'\n",
      " 'THE_BUSINESS_JOURNALS' 'PAYPAL' 'WALMARTCOM' 'MICROSOFT' 'DRINUANCE'\n",
      " 'UPS' 'MCKISSOCK' 'PSI_DC_OPLA' 'ADOBE_ACROPRO_SUBS' 'MICROSOFTSTORE'\n",
      " 'WWWWERECOVERDATACOM' 'THOMSON_REUTERS_LEGAL']\n",
      "\n",
      "Most Similar Agency Vendors: ['DS_WATERS' 'APPLE_COURIER_INC' 'CBSCANONBUS_SOLUTIONS' 'GOFEDEX_'\n",
      " 'HASLER_INC' 'UNITED_' 'SILVERADO_ADV_RESERVAT' 'NATIONAL_MAILING_SYSTE'\n",
      " 'SYDAR_PRINTING_CORP' 'STANDARD_OFFICE_SUPPLY' 'WASHINGTON_EXPRESS'\n",
      " 'AMERICAN_BAR_ASSOCIATI' 'DAVID_A_HOBBS_INC' 'HASLER_RC_'\n",
      " 'BRENTWORKS_INC' 'FOUR_SEASONS_HOTELS' 'ALMAMER_LAWER_MEDIA'\n",
      " 'PIKE__FISCHER' 'GSA_OFFICE_SUPPLIES_IN' 'SWEET_INK_LLC'\n",
      " 'THOMSON_WESTTCD' 'HP_SERVICES' 'WASHINGTON_TROPHY_CENT'\n",
      " 'ALM_MEDIA_LLC__CSCL' 'CANCANONBUSSOL_CBS' 'HP_DIRECTPUBLICSECTOR'\n",
      " 'QUICK_MESSENGER_SVC_OF' 'SUPRETECH_INCORPORATED' 'OFFICE_DEPOT_'\n",
      " 'QUICK_MESSENGER_SERVIC' 'GBCECOMMERCE' 'FRONTIER_'\n",
      " 'AMAZON_MKTPLACE_PMTS' 'BONSAI_FINE_ARTS' 'IMAGISTICSINV_'\n",
      " 'WASHINGTON_TROPHY_C' 'STAPLS' 'DMI_DELL_KGOVT' 'DC_BAR'\n",
      " 'DS_WATERS_STANDARD_COF' 'FURNITURESPEAK' 'NEOPOST_USA'\n",
      " 'AMERICAN_JUDICATURE_SO' 'APLAPPLEONLINESTOREUS' 'THE_BAUMGARTEN_CO_OF_W'\n",
      " 'TE_COMPANY_INC' 'FEDEX_' 'SYDAR_OF_DC_LLC' 'MAILFINANCE'\n",
      " 'DS_SERVICES_STANDARD_C' 'ALM_CSC' 'OWWORBITZCOM' 'NTL_CTR_FOR_ST_CTS'\n",
      " 'PAXTON_VAN_LINES' 'BONSAI_FINE_ARTS_INC' 'EMBASSY_SUITES'\n",
      " 'KNOWLES_PRINTING_SERVI' 'OFFICESUPPLYCOM' 'PAYPAL_MNGMNTCENTR'\n",
      " 'OFFICEMAXOFFICEDEPT' 'CANON_SOLUTIONS_AMER_I' 'READYREFRESH_BY_NESTLE'\n",
      " 'WHC_MEDSTAR_PHYSICIANS' 'UNITED_AIRLINES' 'EMBASSY_SUITES_DWNTWN' 'ALM'\n",
      " 'NEOPOSTINC']\n"
     ]
    }
   ],
   "source": [
    "summarize(3)"
   ]
  },
  {
   "cell_type": "code",
   "execution_count": 36,
   "id": "stupid-aerospace",
   "metadata": {},
   "outputs": [
    {
     "ename": "TypeError",
     "evalue": "sum() got an unexpected keyword argument 'axis'",
     "output_type": "error",
     "traceback": [
      "\u001b[0;31m---------------------------------------------------------------------------\u001b[0m",
      "\u001b[0;31mTypeError\u001b[0m                                 Traceback (most recent call last)",
      "\u001b[0;32m<ipython-input-36-41c5fb7c7635>\u001b[0m in \u001b[0;36m<module>\u001b[0;34m\u001b[0m\n\u001b[1;32m      1\u001b[0m \u001b[0;31m#df.set_index(['Unnamed: 0']).groupby(['AGENCY_NUM', 'VENDOR_NAME_NUM']).sum('TRANSACTION_AMOUNT').sort_values(['TRANSACTION_AMOUNT'], ascending=False)\u001b[0m\u001b[0;34m\u001b[0m\u001b[0;34m\u001b[0m\u001b[0;34m\u001b[0m\u001b[0m\n\u001b[1;32m      2\u001b[0m \u001b[0;34m\u001b[0m\u001b[0m\n\u001b[0;32m----> 3\u001b[0;31m \u001b[0mdf\u001b[0m\u001b[0;34m.\u001b[0m\u001b[0mgroupby\u001b[0m\u001b[0;34m(\u001b[0m\u001b[0;34m[\u001b[0m\u001b[0;34m'AGENCY_NUM'\u001b[0m\u001b[0;34m,\u001b[0m \u001b[0;34m'VENDOR_NAME_NUM'\u001b[0m\u001b[0;34m]\u001b[0m\u001b[0;34m)\u001b[0m\u001b[0;34m[\u001b[0m\u001b[0;34m'TRANSACTION_AMOUNT'\u001b[0m\u001b[0;34m]\u001b[0m\u001b[0;34m.\u001b[0m\u001b[0msum\u001b[0m\u001b[0;34m(\u001b[0m\u001b[0maxis\u001b[0m\u001b[0;34m=\u001b[0m\u001b[0;36m1\u001b[0m\u001b[0;34m)\u001b[0m\u001b[0;34m.\u001b[0m\u001b[0mnlargest\u001b[0m\u001b[0;34m(\u001b[0m\u001b[0;36m2\u001b[0m\u001b[0;34m)\u001b[0m\u001b[0;34m\u001b[0m\u001b[0;34m\u001b[0m\u001b[0m\n\u001b[0m",
      "\u001b[0;31mTypeError\u001b[0m: sum() got an unexpected keyword argument 'axis'"
     ]
    }
   ],
   "source": [
    "#df.set_index(['Unnamed: 0']).groupby(['AGENCY_NUM', 'VENDOR_NAME_NUM']).sum('TRANSACTION_AMOUNT').sort_values(['TRANSACTION_AMOUNT'], ascending=False)\n",
    "\n",
    "df.groupby(['AGENCY_NUM', 'VENDOR_NAME_NUM'])['TRANSACTION_AMOUNT'].sum(axis=1).nlargest(2)\n",
    "\n",
    "\n"
   ]
  },
  {
   "cell_type": "code",
   "execution_count": null,
   "id": "unknown-nelson",
   "metadata": {},
   "outputs": [],
   "source": []
  }
 ],
 "metadata": {
  "kernelspec": {
   "display_name": "Python 3",
   "language": "python",
   "name": "python3"
  },
  "language_info": {
   "codemirror_mode": {
    "name": "ipython",
    "version": 3
   },
   "file_extension": ".py",
   "mimetype": "text/x-python",
   "name": "python",
   "nbconvert_exporter": "python",
   "pygments_lexer": "ipython3",
   "version": "3.6.12"
  }
 },
 "nbformat": 4,
 "nbformat_minor": 5
}
