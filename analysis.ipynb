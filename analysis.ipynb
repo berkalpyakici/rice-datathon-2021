{
 "cells": [
  {
   "cell_type": "code",
   "execution_count": 51,
   "id": "imposed-mechanism",
   "metadata": {},
   "outputs": [],
   "source": [
    "import pandas as pd\n",
    "import numpy as np\n",
    "from collections import Counter\n",
    "from tqdm.notebook import tqdm"
   ]
  },
  {
   "cell_type": "code",
   "execution_count": 52,
   "id": "incoming-setting",
   "metadata": {},
   "outputs": [],
   "source": [
    "# Load our data.\n",
    "df = pd.read_csv(\"data/Normalized_Purchase_Card_Transactions.csv\")\n",
    "df_agencies = pd.read_csv(\"data/List_Agencies.csv\")\n",
    "df_vendors = pd.read_csv(\"data/List_Vendors.csv\")"
   ]
  },
  {
   "cell_type": "code",
   "execution_count": 53,
   "id": "respective-omaha",
   "metadata": {},
   "outputs": [
    {
     "data": {
      "application/vnd.jupyter.widget-view+json": {
       "model_id": "05eec0540f324fb292d5e40b38f67fa4",
       "version_major": 2,
       "version_minor": 0
      },
      "text/plain": [
       "  0%|          | 0/390109 [00:00<?, ?it/s]"
      ]
     },
     "metadata": {},
     "output_type": "display_data"
    },
    {
     "data": {
      "text/plain": [
       "44494"
      ]
     },
     "execution_count": 53,
     "metadata": {},
     "output_type": "execute_result"
    }
   ],
   "source": [
    "blank = np.zeros((df['AGENCY_NUM'].max() + 1, df['VENDOR_NAME_NUM'].max() + 1))\n",
    "\n",
    "for index, row in tqdm(df.iterrows(), total = df.shape[0]):\n",
    "    blank[row['AGENCY_NUM'], row['VENDOR_NAME_NUM']] += row['TRANSACTION_AMOUNT_NORM']\n",
    "\n",
    "np.count_nonzero(blank)"
   ]
  },
  {
   "cell_type": "code",
   "execution_count": 54,
   "id": "dominican-trial",
   "metadata": {},
   "outputs": [],
   "source": [
    "wordCounts = pd.DataFrame(blank)\n",
    "\n",
    "bags = {i: df[df['AGENCY_NUM'] == i]['VENDOR_NAME_NUM'].unique() for i in df['AGENCY_NUM'].unique()}"
   ]
  },
  {
   "cell_type": "code",
   "execution_count": 55,
   "id": "ultimate-newfoundland",
   "metadata": {},
   "outputs": [],
   "source": [
    "def tf(counts):\n",
    "    tfDF = pd.DataFrame()\n",
    "    \n",
    "    for index, row in counts.iterrows():\n",
    "        tfDF[index] = row.div(row.sum())\n",
    "        \n",
    "    return tfDF\n",
    "\n",
    "tf = pd.DataFrame(tf(wordCounts)).T"
   ]
  },
  {
   "cell_type": "code",
   "execution_count": 56,
   "id": "hindu-ocean",
   "metadata": {},
   "outputs": [],
   "source": [
    "idf = tf.apply(lambda x: np.log((df['AGENCY_NUM'].max() + 1) / (np.count_nonzero(x.to_numpy())+1)), axis=0)"
   ]
  },
  {
   "cell_type": "code",
   "execution_count": 57,
   "id": "apart-record",
   "metadata": {},
   "outputs": [],
   "source": [
    "prod = tf*idf"
   ]
  },
  {
   "cell_type": "code",
   "execution_count": 58,
   "id": "dressed-eating",
   "metadata": {},
   "outputs": [],
   "source": [
    "from sklearn.metrics.pairwise import cosine_similarity\n",
    "\n",
    "similarity = cosine_similarity(prod).astype(\"float\")\n",
    "for i in range(len(similarity)):\n",
    "    similarity[i][i] = 0"
   ]
  },
  {
   "cell_type": "code",
   "execution_count": 59,
   "id": "organic-offense",
   "metadata": {},
   "outputs": [],
   "source": [
    "mostsimilar = np.argmax(similarity, axis=1)\n",
    "mostsimilar_verbose = np.array([df_agencies.iloc[i][1] for i in mostsimilar])\n",
    "mostsimilar_vendors = np.array([bags[i] for i in mostsimilar], dtype = object)"
   ]
  },
  {
   "cell_type": "code",
   "execution_count": 60,
   "id": "determined-portugal",
   "metadata": {},
   "outputs": [],
   "source": [
    "def summarize(agency = 0):\n",
    "    \"\"\"\n",
    "    Gives brief information on the agency and its most similar agency.\n",
    "    \"\"\"\n",
    "    agency_bag = bags[agency]\n",
    "    agency_bag_verbose = np.array([df_vendors.iloc[i][1] for i in agency_bag])\n",
    "    similar_agency_bag = bags[mostsimilar[agency]]\n",
    "    similar_agency_bag_verbose = np.array([df_vendors.iloc[i][1] for i in similar_agency_bag])\n",
    "    \n",
    "    print(\"Selected Agency:\", df_agencies.iloc[agency][1])\n",
    "    print(\"Most Similar Agency:\", mostsimilar_verbose[agency])\n",
    "    print()\n",
    "    print(\"Agency Vendors:\", agency_bag_verbose)\n",
    "    print()\n",
    "    print(\"Most Similar Agency Vendors:\", similar_agency_bag_verbose)"
   ]
  },
  {
   "cell_type": "code",
   "execution_count": 61,
   "id": "amended-hostel",
   "metadata": {
    "scrolled": false
   },
   "outputs": [
    {
     "name": "stdout",
     "output_type": "stream",
     "text": [
      "Selected Agency: Board of Real Property Assessment & Appeals\n",
      "Most Similar Agency: Commission of Judicial Disabilities & Tenure\n",
      "\n",
      "Agency Vendors: ['STANDARD_OFFICE_SUPPLY' 'LASER_ART_INC' 'FEDEX_'\n",
      " 'SUPRETECH_INCORPORATED' 'PAYPAL_CORPORATEEX' 'DUPONT_COMPUTER_INC'\n",
      " 'METROPOLITAN_OFFICE_PR' 'CAPITAL_SERVICES_AND_S' 'BENJAMIN_OFFICE_SU'\n",
      " 'PROBAR' 'SUPERIOR_COURIERS_LLC' 'DELTA_ASSOCIATES'\n",
      " 'GRAYMAR_BUSINESS_SOLUT' 'UNITEDBUSINESSTECH' 'STAR_OFFICE_PRODUCTS_I'\n",
      " 'DMI_DELL_KGOVT' 'DS_WATERS' 'HIGDON_INC' 'FLASH_GLASS__MIRROR_C'\n",
      " 'DS_WATERS_STANDARD_COF' 'THOMSON_WESTTCD' 'HENDERSON_PROFESSIO'\n",
      " 'MCKISSOCK_LP' 'APPRAISAL_INSTITUTE' 'US_FACILITIES_INC'\n",
      " 'BANNER_STAFFING' 'SQ_KARMIC_KOLLECTIONS' 'COSTAR_GROUP_INC'\n",
      " 'STAR_OFFICE_PRODUCTS' 'SQ_BWH_CONSULTANTS' 'GRTR_CPTL_ASSOC_REALTO'\n",
      " 'DC_BAR' 'MICROFRAME' 'PITNEY_BOWES' 'WASHINGTON_BIZ_JOURNAL'\n",
      " 'EDUCATION_TO_GO' 'PBILEASEDEQUIPMENT' 'SQ_SYLVIA_PARKER_E'\n",
      " 'DIGITAL_COPIER' 'MB_STAFFING_SERVIC' 'COMCAST_OF_WASHINGTON'\n",
      " 'DS_SERVICES_STANDARD_C' 'SQ_BWH_CONSULTANTS_AC' 'SQ_SERVICES_SYLVIA'\n",
      " 'MSFT_MICROSOFTSTORE' 'ACE_TRANSCRIPTION_SERV' 'TOTAL_TECHNOLOGIES'\n",
      " 'APLAPPLEONLINESTOREUS' 'MICROSOFT_STORE' 'MD_DEPT_OF_LICENSING'\n",
      " 'MICROSOFT_OFFICE_' 'DOCUMENT_MANAGERS' 'TPW_CONSULTANTS'\n",
      " 'AMERICAN_BUSINESS_SUPP' 'TOTAL_OFFICE_PRODUCTS' 'FEDEXOFFICE_'\n",
      " 'VUEDC_PROFESSIONAL_LC' 'INTL_LANGUAGE_INSTITU' 'RECORDER_OF_DEEDONLIN'\n",
      " 'SPECTRUM_MANAGEMENT_LL' 'DUPONT_COMPUTERS_INC' 'COMCAST' 'THOMSON_WEST'\n",
      " 'THE_BUSINESS_JOURNALS' 'PAYPAL' 'WALMARTCOM' 'MICROSOFT' 'DRINUANCE'\n",
      " 'UPS' 'MCKISSOCK' 'PSI_DC_OPLA' 'ADOBE_ACROPRO_SUBS' 'MICROSOFTSTORE'\n",
      " 'WWWWERECOVERDATACOM' 'THOMSON_REUTERS_LEGAL']\n",
      "\n",
      "Most Similar Agency Vendors: ['DS_WATERS' 'APPLE_COURIER_INC' 'CBSCANONBUS_SOLUTIONS' 'GOFEDEX_'\n",
      " 'HASLER_INC' 'UNITED_' 'SILVERADO_ADV_RESERVAT' 'NATIONAL_MAILING_SYSTE'\n",
      " 'SYDAR_PRINTING_CORP' 'STANDARD_OFFICE_SUPPLY' 'WASHINGTON_EXPRESS'\n",
      " 'AMERICAN_BAR_ASSOCIATI' 'DAVID_A_HOBBS_INC' 'HASLER_RC_'\n",
      " 'BRENTWORKS_INC' 'FOUR_SEASONS_HOTELS' 'ALMAMER_LAWER_MEDIA'\n",
      " 'PIKE__FISCHER' 'GSA_OFFICE_SUPPLIES_IN' 'SWEET_INK_LLC'\n",
      " 'THOMSON_WESTTCD' 'HP_SERVICES' 'WASHINGTON_TROPHY_CENT'\n",
      " 'ALM_MEDIA_LLC__CSCL' 'CANCANONBUSSOL_CBS' 'HP_DIRECTPUBLICSECTOR'\n",
      " 'QUICK_MESSENGER_SVC_OF' 'SUPRETECH_INCORPORATED' 'OFFICE_DEPOT_'\n",
      " 'QUICK_MESSENGER_SERVIC' 'GBCECOMMERCE' 'FRONTIER_'\n",
      " 'AMAZON_MKTPLACE_PMTS' 'BONSAI_FINE_ARTS' 'IMAGISTICSINV_'\n",
      " 'WASHINGTON_TROPHY_C' 'STAPLS' 'DMI_DELL_KGOVT' 'DC_BAR'\n",
      " 'DS_WATERS_STANDARD_COF' 'FURNITURESPEAK' 'NEOPOST_USA'\n",
      " 'AMERICAN_JUDICATURE_SO' 'APLAPPLEONLINESTOREUS' 'THE_BAUMGARTEN_CO_OF_W'\n",
      " 'TE_COMPANY_INC' 'FEDEX_' 'SYDAR_OF_DC_LLC' 'MAILFINANCE'\n",
      " 'DS_SERVICES_STANDARD_C' 'ALM_CSC' 'OWWORBITZCOM' 'NTL_CTR_FOR_ST_CTS'\n",
      " 'PAXTON_VAN_LINES' 'BONSAI_FINE_ARTS_INC' 'EMBASSY_SUITES'\n",
      " 'KNOWLES_PRINTING_SERVI' 'OFFICESUPPLYCOM' 'PAYPAL_MNGMNTCENTR'\n",
      " 'OFFICEMAXOFFICEDEPT' 'CANON_SOLUTIONS_AMER_I' 'READYREFRESH_BY_NESTLE'\n",
      " 'WHC_MEDSTAR_PHYSICIANS' 'UNITED_AIRLINES' 'EMBASSY_SUITES_DWNTWN' 'ALM'\n",
      " 'NEOPOSTINC']\n"
     ]
    }
   ],
   "source": [
    "summarize(3)"
   ]
  },
  {
   "cell_type": "code",
   "execution_count": 64,
   "id": "pending-maria",
   "metadata": {},
   "outputs": [],
   "source": [
    "grouped = df.groupby(['AGENCY_NUM', 'VENDOR_NAME_NUM']).sum('TRANSACTION_AMOUNT')\n",
    "\n",
    "topn = pd.DataFrame(grouped['TRANSACTION_AMOUNT'].groupby('AGENCY_NUM', group_keys=False).nlargest(25))"
   ]
  },
  {
   "cell_type": "code",
   "execution_count": 65,
   "id": "local-sucking",
   "metadata": {},
   "outputs": [
    {
     "data": {
      "text/html": [
       "<div>\n",
       "<style scoped>\n",
       "    .dataframe tbody tr th:only-of-type {\n",
       "        vertical-align: middle;\n",
       "    }\n",
       "\n",
       "    .dataframe tbody tr th {\n",
       "        vertical-align: top;\n",
       "    }\n",
       "\n",
       "    .dataframe thead th {\n",
       "        text-align: right;\n",
       "    }\n",
       "</style>\n",
       "<table border=\"1\" class=\"dataframe\">\n",
       "  <thead>\n",
       "    <tr style=\"text-align: right;\">\n",
       "      <th></th>\n",
       "      <th></th>\n",
       "      <th>TRANSACTION_AMOUNT</th>\n",
       "    </tr>\n",
       "    <tr>\n",
       "      <th>AGENCY_NUM</th>\n",
       "      <th>VENDOR_NAME_NUM</th>\n",
       "      <th></th>\n",
       "    </tr>\n",
       "  </thead>\n",
       "  <tbody>\n",
       "    <tr>\n",
       "      <th rowspan=\"5\" valign=\"top\">0</th>\n",
       "      <th>32622</th>\n",
       "      <td>16490.67</td>\n",
       "    </tr>\n",
       "    <tr>\n",
       "      <th>10283</th>\n",
       "      <td>3341.96</td>\n",
       "    </tr>\n",
       "    <tr>\n",
       "      <th>14975</th>\n",
       "      <td>2050.00</td>\n",
       "    </tr>\n",
       "    <tr>\n",
       "      <th>34339</th>\n",
       "      <td>1982.25</td>\n",
       "    </tr>\n",
       "    <tr>\n",
       "      <th>10897</th>\n",
       "      <td>1934.62</td>\n",
       "    </tr>\n",
       "    <tr>\n",
       "      <th>...</th>\n",
       "      <th>...</th>\n",
       "      <td>...</td>\n",
       "    </tr>\n",
       "    <tr>\n",
       "      <th rowspan=\"5\" valign=\"top\">88</th>\n",
       "      <th>19337</th>\n",
       "      <td>23279.48</td>\n",
       "    </tr>\n",
       "    <tr>\n",
       "      <th>21777</th>\n",
       "      <td>21266.99</td>\n",
       "    </tr>\n",
       "    <tr>\n",
       "      <th>5448</th>\n",
       "      <td>20561.59</td>\n",
       "    </tr>\n",
       "    <tr>\n",
       "      <th>8467</th>\n",
       "      <td>20534.58</td>\n",
       "    </tr>\n",
       "    <tr>\n",
       "      <th>17523</th>\n",
       "      <td>20500.00</td>\n",
       "    </tr>\n",
       "  </tbody>\n",
       "</table>\n",
       "<p>2225 rows × 1 columns</p>\n",
       "</div>"
      ],
      "text/plain": [
       "                            TRANSACTION_AMOUNT\n",
       "AGENCY_NUM VENDOR_NAME_NUM                    \n",
       "0          32622                      16490.67\n",
       "           10283                       3341.96\n",
       "           14975                       2050.00\n",
       "           34339                       1982.25\n",
       "           10897                       1934.62\n",
       "...                                        ...\n",
       "88         19337                      23279.48\n",
       "           21777                      21266.99\n",
       "           5448                       20561.59\n",
       "           8467                       20534.58\n",
       "           17523                      20500.00\n",
       "\n",
       "[2225 rows x 1 columns]"
      ]
     },
     "execution_count": 65,
     "metadata": {},
     "output_type": "execute_result"
    }
   ],
   "source": [
    "topn"
   ]
  },
  {
   "cell_type": "code",
   "execution_count": 134,
   "id": "mechanical-scholarship",
   "metadata": {},
   "outputs": [
    {
     "data": {
      "text/plain": [
       "array([[ 164611.95],\n",
       "       [  39074.87],\n",
       "       [1245654.54],\n",
       "       [  32626.57]])"
      ]
     },
     "execution_count": 134,
     "metadata": {},
     "output_type": "execute_result"
    }
   ],
   "source": [
    "descriptions = df.loc[:, ['VENDOR_NAME_NUM', 'TRANSACTION_AMOUNT', 'MCC_DESCRIPTION']]\n",
    "descriptions['MCC_DESCRIPTION'] = descriptions['MCC_DESCRIPTION'].str.replace('Not Elsewhere Classified', '').str.replace('NOT ELSEWHERE CLASSIFIED', '')\n",
    "descriptions['MCC_DESCRIPTION_LIST'] = descriptions['MCC_DESCRIPTION'].str.split(\",\")\n",
    "\n",
    "exploded = descriptions.explode('MCC_DESCRIPTION_LIST').replace(' ', np.nan).dropna(0)\n",
    "\n",
    "grouped_descriptions = exploded.groupby('MCC_DESCRIPTION_LIST').sum('TRANSACTION_AMOUNT')\n",
    "topn_descriptions = pd.DataFrame(grouped_descriptions['TRANSACTION_AMOUNT'].groupby('MCC_DESCRIPTION_LIST', group_keys=False).nlargest(5))"
   ]
  },
  {
   "cell_type": "code",
   "execution_count": 139,
   "id": "growing-adoption",
   "metadata": {},
   "outputs": [
    {
     "ename": "KeyError",
     "evalue": "'MCC_DESCRIPTION_LIST'",
     "output_type": "error",
     "traceback": [
      "\u001b[0;31m---------------------------------------------------------------------------\u001b[0m",
      "\u001b[0;31mKeyError\u001b[0m                                  Traceback (most recent call last)",
      "\u001b[0;32m~/miniconda3/envs/hackathon/lib/python3.6/site-packages/pandas/core/indexes/base.py\u001b[0m in \u001b[0;36mget_loc\u001b[0;34m(self, key, method, tolerance)\u001b[0m\n\u001b[1;32m   2894\u001b[0m             \u001b[0;32mtry\u001b[0m\u001b[0;34m:\u001b[0m\u001b[0;34m\u001b[0m\u001b[0;34m\u001b[0m\u001b[0m\n\u001b[0;32m-> 2895\u001b[0;31m                 \u001b[0;32mreturn\u001b[0m \u001b[0mself\u001b[0m\u001b[0;34m.\u001b[0m\u001b[0m_engine\u001b[0m\u001b[0;34m.\u001b[0m\u001b[0mget_loc\u001b[0m\u001b[0;34m(\u001b[0m\u001b[0mcasted_key\u001b[0m\u001b[0;34m)\u001b[0m\u001b[0;34m\u001b[0m\u001b[0;34m\u001b[0m\u001b[0m\n\u001b[0m\u001b[1;32m   2896\u001b[0m             \u001b[0;32mexcept\u001b[0m \u001b[0mKeyError\u001b[0m \u001b[0;32mas\u001b[0m \u001b[0merr\u001b[0m\u001b[0;34m:\u001b[0m\u001b[0;34m\u001b[0m\u001b[0;34m\u001b[0m\u001b[0m\n",
      "\u001b[0;32mpandas/_libs/index.pyx\u001b[0m in \u001b[0;36mpandas._libs.index.IndexEngine.get_loc\u001b[0;34m()\u001b[0m\n",
      "\u001b[0;32mpandas/_libs/index.pyx\u001b[0m in \u001b[0;36mpandas._libs.index.IndexEngine.get_loc\u001b[0;34m()\u001b[0m\n",
      "\u001b[0;32mpandas/_libs/hashtable_class_helper.pxi\u001b[0m in \u001b[0;36mpandas._libs.hashtable.PyObjectHashTable.get_item\u001b[0;34m()\u001b[0m\n",
      "\u001b[0;32mpandas/_libs/hashtable_class_helper.pxi\u001b[0m in \u001b[0;36mpandas._libs.hashtable.PyObjectHashTable.get_item\u001b[0;34m()\u001b[0m\n",
      "\u001b[0;31mKeyError\u001b[0m: 'MCC_DESCRIPTION_LIST'",
      "\nThe above exception was the direct cause of the following exception:\n",
      "\u001b[0;31mKeyError\u001b[0m                                  Traceback (most recent call last)",
      "\u001b[0;32m<ipython-input-139-98fa596400e5>\u001b[0m in \u001b[0;36m<module>\u001b[0;34m\u001b[0m\n\u001b[0;32m----> 1\u001b[0;31m \u001b[0mtopn_descriptions\u001b[0m\u001b[0;34m[\u001b[0m\u001b[0mtopn_descriptions\u001b[0m\u001b[0;34m[\u001b[0m\u001b[0;34m'MCC_DESCRIPTION_LIST'\u001b[0m\u001b[0;34m]\u001b[0m\u001b[0;34m]\u001b[0m\u001b[0;34m\u001b[0m\u001b[0;34m\u001b[0m\u001b[0m\n\u001b[0m",
      "\u001b[0;32m~/miniconda3/envs/hackathon/lib/python3.6/site-packages/pandas/core/frame.py\u001b[0m in \u001b[0;36m__getitem__\u001b[0;34m(self, key)\u001b[0m\n\u001b[1;32m   2900\u001b[0m             \u001b[0;32mif\u001b[0m \u001b[0mself\u001b[0m\u001b[0;34m.\u001b[0m\u001b[0mcolumns\u001b[0m\u001b[0;34m.\u001b[0m\u001b[0mnlevels\u001b[0m \u001b[0;34m>\u001b[0m \u001b[0;36m1\u001b[0m\u001b[0;34m:\u001b[0m\u001b[0;34m\u001b[0m\u001b[0;34m\u001b[0m\u001b[0m\n\u001b[1;32m   2901\u001b[0m                 \u001b[0;32mreturn\u001b[0m \u001b[0mself\u001b[0m\u001b[0;34m.\u001b[0m\u001b[0m_getitem_multilevel\u001b[0m\u001b[0;34m(\u001b[0m\u001b[0mkey\u001b[0m\u001b[0;34m)\u001b[0m\u001b[0;34m\u001b[0m\u001b[0;34m\u001b[0m\u001b[0m\n\u001b[0;32m-> 2902\u001b[0;31m             \u001b[0mindexer\u001b[0m \u001b[0;34m=\u001b[0m \u001b[0mself\u001b[0m\u001b[0;34m.\u001b[0m\u001b[0mcolumns\u001b[0m\u001b[0;34m.\u001b[0m\u001b[0mget_loc\u001b[0m\u001b[0;34m(\u001b[0m\u001b[0mkey\u001b[0m\u001b[0;34m)\u001b[0m\u001b[0;34m\u001b[0m\u001b[0;34m\u001b[0m\u001b[0m\n\u001b[0m\u001b[1;32m   2903\u001b[0m             \u001b[0;32mif\u001b[0m \u001b[0mis_integer\u001b[0m\u001b[0;34m(\u001b[0m\u001b[0mindexer\u001b[0m\u001b[0;34m)\u001b[0m\u001b[0;34m:\u001b[0m\u001b[0;34m\u001b[0m\u001b[0;34m\u001b[0m\u001b[0m\n\u001b[1;32m   2904\u001b[0m                 \u001b[0mindexer\u001b[0m \u001b[0;34m=\u001b[0m \u001b[0;34m[\u001b[0m\u001b[0mindexer\u001b[0m\u001b[0;34m]\u001b[0m\u001b[0;34m\u001b[0m\u001b[0;34m\u001b[0m\u001b[0m\n",
      "\u001b[0;32m~/miniconda3/envs/hackathon/lib/python3.6/site-packages/pandas/core/indexes/base.py\u001b[0m in \u001b[0;36mget_loc\u001b[0;34m(self, key, method, tolerance)\u001b[0m\n\u001b[1;32m   2895\u001b[0m                 \u001b[0;32mreturn\u001b[0m \u001b[0mself\u001b[0m\u001b[0;34m.\u001b[0m\u001b[0m_engine\u001b[0m\u001b[0;34m.\u001b[0m\u001b[0mget_loc\u001b[0m\u001b[0;34m(\u001b[0m\u001b[0mcasted_key\u001b[0m\u001b[0;34m)\u001b[0m\u001b[0;34m\u001b[0m\u001b[0;34m\u001b[0m\u001b[0m\n\u001b[1;32m   2896\u001b[0m             \u001b[0;32mexcept\u001b[0m \u001b[0mKeyError\u001b[0m \u001b[0;32mas\u001b[0m \u001b[0merr\u001b[0m\u001b[0;34m:\u001b[0m\u001b[0;34m\u001b[0m\u001b[0;34m\u001b[0m\u001b[0m\n\u001b[0;32m-> 2897\u001b[0;31m                 \u001b[0;32mraise\u001b[0m \u001b[0mKeyError\u001b[0m\u001b[0;34m(\u001b[0m\u001b[0mkey\u001b[0m\u001b[0;34m)\u001b[0m \u001b[0;32mfrom\u001b[0m \u001b[0merr\u001b[0m\u001b[0;34m\u001b[0m\u001b[0;34m\u001b[0m\u001b[0m\n\u001b[0m\u001b[1;32m   2898\u001b[0m \u001b[0;34m\u001b[0m\u001b[0m\n\u001b[1;32m   2899\u001b[0m         \u001b[0;32mif\u001b[0m \u001b[0mtolerance\u001b[0m \u001b[0;32mis\u001b[0m \u001b[0;32mnot\u001b[0m \u001b[0;32mNone\u001b[0m\u001b[0;34m:\u001b[0m\u001b[0;34m\u001b[0m\u001b[0;34m\u001b[0m\u001b[0m\n",
      "\u001b[0;31mKeyError\u001b[0m: 'MCC_DESCRIPTION_LIST'"
     ]
    }
   ],
   "source": [
    "topn_descriptions[topn_descriptions['MCC_DESCRIPTION_LIST']]"
   ]
  },
  {
   "cell_type": "code",
   "execution_count": null,
   "id": "sacred-trance",
   "metadata": {},
   "outputs": [],
   "source": [
    "\n",
    "merged = topn.join(descriptions.drop('TRANSACTION_AMOUNT', axis=1), on = 'VENDOR_NAME_NUM', how='left')\n",
    "merged"
   ]
  },
  {
   "cell_type": "code",
   "execution_count": null,
   "id": "certain-postcard",
   "metadata": {},
   "outputs": [],
   "source": []
  }
 ],
 "metadata": {
  "kernelspec": {
   "display_name": "Python 3",
   "language": "python",
   "name": "python3"
  },
  "language_info": {
   "codemirror_mode": {
    "name": "ipython",
    "version": 3
   },
   "file_extension": ".py",
   "mimetype": "text/x-python",
   "name": "python",
   "nbconvert_exporter": "python",
   "pygments_lexer": "ipython3",
   "version": "3.6.12"
  }
 },
 "nbformat": 4,
 "nbformat_minor": 5
}
