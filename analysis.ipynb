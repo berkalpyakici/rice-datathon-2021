{
 "cells": [
  {
   "cell_type": "code",
   "execution_count": null,
   "id": "working-dryer",
   "metadata": {},
   "outputs": [],
   "source": [
    "import pandas as pd\n",
    "import numpy as np\n",
    "from collections import Counter\n",
    "from tqdm.notebook import tqdm"
   ]
  },
  {
   "cell_type": "code",
   "execution_count": null,
   "id": "beginning-rates",
   "metadata": {},
   "outputs": [],
   "source": [
    "# Load our data.\n",
    "df = pd.read_csv(\"data/Normalized_Purchase_Card_Transactions.csv\")\n",
    "df_agencies = pd.read_csv(\"data/List_Agencies.csv\")\n",
    "df_vendors = pd.read_csv(\"data/List_Vendors.csv\")"
   ]
  },
  {
   "cell_type": "code",
   "execution_count": null,
   "id": "sonic-pursuit",
   "metadata": {},
   "outputs": [],
   "source": [
    "blank = np.zeros((df['AGENCY_NUM'].max() + 1, df['VENDOR_NAME_NUM'].max() + 1))\n",
    "\n",
    "for index, row in tqdm(df.iterrows(), total = df.shape[0]):\n",
    "    blank[row['AGENCY_NUM'], row['VENDOR_NAME_NUM']] += row['TRANSACTION_AMOUNT_NORM']\n",
    "\n",
    "np.count_nonzero(blank)"
   ]
  },
  {
   "cell_type": "code",
   "execution_count": null,
   "id": "rural-differential",
   "metadata": {},
   "outputs": [],
   "source": [
    "wordCounts = pd.DataFrame(blank)\n",
    "\n",
    "bags = {i: df[df['AGENCY_NUM'] == i]['VENDOR_NAME_NUM'].unique() for i in df['AGENCY_NUM'].unique()}"
   ]
  },
  {
   "cell_type": "code",
   "execution_count": null,
   "id": "agricultural-intention",
   "metadata": {},
   "outputs": [],
   "source": [
    "def tf(counts):\n",
    "    tfDF = pd.DataFrame()\n",
    "    \n",
    "    for index, row in counts.iterrows():\n",
    "        tfDF[index] = row.div(row.sum())\n",
    "        \n",
    "    return tfDF\n",
    "\n",
    "tf = pd.DataFrame(tf(wordCounts)).T"
   ]
  },
  {
   "cell_type": "code",
   "execution_count": null,
   "id": "native-benjamin",
   "metadata": {},
   "outputs": [],
   "source": [
    "idf = tf.apply(lambda x: np.log((df['AGENCY_NUM'].max() + 1) / (np.count_nonzero(x.to_numpy())+1)), axis=0)"
   ]
  },
  {
   "cell_type": "code",
   "execution_count": null,
   "id": "hired-collection",
   "metadata": {},
   "outputs": [],
   "source": [
    "prod = tf*idf"
   ]
  },
  {
   "cell_type": "code",
   "execution_count": null,
   "id": "sticky-course",
   "metadata": {},
   "outputs": [],
   "source": [
    "from sklearn.metrics.pairwise import cosine_similarity\n",
    "\n",
    "similarity = cosine_similarity(prod).astype(\"float\")\n",
    "for i in range(len(similarity)):\n",
    "    similarity[i][i] = 0"
   ]
  },
  {
   "cell_type": "code",
   "execution_count": null,
   "id": "fluid-joshua",
   "metadata": {},
   "outputs": [],
   "source": [
    "# Find most similar vendors\n",
    "mostsimilar = np.argmax(similarity, axis=1)\n",
    "mostsimilar_verbose = np.array([df_agencies.iloc[i][1] for i in mostsimilar])\n",
    "mostsimilar_vendors = np.array([bags[i] for i in mostsimilar], dtype = object)"
   ]
  },
  {
   "cell_type": "code",
   "execution_count": null,
   "id": "instrumental-opposition",
   "metadata": {},
   "outputs": [],
   "source": [
    "grouped = df.groupby(['AGENCY_NUM', 'VENDOR_NAME_NUM'], as_index = False)['TRANSACTION_AMOUNT'].agg('sum')\n",
    "topn = grouped.sort_values(['AGENCY_NUM','TRANSACTION_AMOUNT'], ascending=False).groupby('AGENCY_NUM').head(5)"
   ]
  },
  {
   "cell_type": "code",
   "execution_count": null,
   "id": "extended-mayor",
   "metadata": {},
   "outputs": [],
   "source": [
    "descriptions = df.loc[:, ['VENDOR_NAME_NUM', 'TRANSACTION_AMOUNT', 'MCC_DESCRIPTION']]\n",
    "descriptions['MCC_DESCRIPTION'] = descriptions['MCC_DESCRIPTION'].str.replace('Not Elsewhere Classified', '').str.replace('NOT ELSEWHERE CLASSIFIED', '')\n",
    "descriptions['MCC_DESCRIPTION_LIST'] = descriptions['MCC_DESCRIPTION'].str.split(r',\\s*(?![^()]*\\))')"
   ]
  },
  {
   "cell_type": "code",
   "execution_count": null,
   "id": "physical-tribe",
   "metadata": {},
   "outputs": [],
   "source": [
    "exploded = descriptions.explode('MCC_DESCRIPTION_LIST').replace(' ', np.nan).dropna(0)"
   ]
  },
  {
   "cell_type": "code",
   "execution_count": null,
   "id": "floppy-saying",
   "metadata": {},
   "outputs": [],
   "source": [
    "grouped_descriptions = exploded.groupby('MCC_DESCRIPTION_LIST').sum('TRANSACTION_AMOUNT')\n",
    "topn_descriptions = pd.DataFrame(grouped_descriptions['TRANSACTION_AMOUNT'].groupby('MCC_DESCRIPTION_LIST', group_keys = False).nlargest(25))"
   ]
  },
  {
   "cell_type": "code",
   "execution_count": null,
   "id": "physical-response",
   "metadata": {},
   "outputs": [],
   "source": [
    "# TOP N\n",
    "topn"
   ]
  },
  {
   "cell_type": "code",
   "execution_count": null,
   "id": "organizational-reader",
   "metadata": {},
   "outputs": [],
   "source": [
    "# topn_descriptions\n",
    "descriptions"
   ]
  },
  {
   "cell_type": "code",
   "execution_count": null,
   "id": "broadband-disposal",
   "metadata": {},
   "outputs": [],
   "source": [
    "descriptions_per_vendor = {}\n",
    "for i in range(df_agencies.shape[0]):\n",
    "    top_5_vendors = topn[topn['AGENCY_NUM'] == i]['VENDOR_NAME_NUM'].to_numpy()\n",
    "    \n",
    "    desc = []\n",
    "    for j in top_5_vendors:\n",
    "        desc += np.unique(descriptions[descriptions['VENDOR_NAME_NUM'] == j]['MCC_DESCRIPTION_LIST'].to_numpy()).tolist()[0]\n",
    "        \n",
    "    descriptions_per_vendor[i] = desc\n",
    "\n",
    "#print(descriptions_per_vendor)"
   ]
  },
  {
   "cell_type": "code",
   "execution_count": null,
   "id": "convertible-easter",
   "metadata": {},
   "outputs": [],
   "source": [
    "def summarize(agency = 0):\n",
    "    \"\"\"\n",
    "    Gives brief information on the agency and its most similar agency.\n",
    "    \"\"\"\n",
    "    agency_bag = bags[agency]\n",
    "    agency_bag_verbose = np.array([df_vendors.iloc[i][1] for i in agency_bag])\n",
    "    \n",
    "    similar_agency_bag = bags[mostsimilar[agency]]\n",
    "    similar_agency_bag_verbose = np.array([df_vendors.iloc[i][1] for i in similar_agency_bag])\n",
    "    \n",
    "    print(similar_agency_bag)\n",
    "    \n",
    "    for i in similar_agency_bag:\n",
    "        df[df['MCC_DESCIPTION'].str.contains()]\n",
    "    \n",
    "    \n",
    "    \n",
    "    print(\"Selected Agency:\", df_agencies.iloc[agency][1])\n",
    "    print(\"Most Similar Agency:\", mostsimilar_verbose[agency])\n",
    "    print()\n",
    "    print(\"Agency Vendors:\", agency_bag_verbose)\n",
    "    print()\n",
    "    print(\"Most Similar Agency Vendors:\", similar_agency_bag_verbose)"
   ]
  },
  {
   "cell_type": "code",
   "execution_count": null,
   "id": "established-great",
   "metadata": {},
   "outputs": [],
   "source": [
    "summarize(0)\n"
   ]
  },
  {
   "cell_type": "code",
   "execution_count": null,
   "id": "analyzed-bobby",
   "metadata": {},
   "outputs": [],
   "source": [
    "#df[df['MCC_DESCRIPTION'].str.contains('\\(Sports')]\n",
    "df[(df['AGENCY_NUM'] == 0) & (df['VENDOR_NAME_NUM'] == 707)]"
   ]
  },
  {
   "cell_type": "code",
   "execution_count": null,
   "id": "massive-thanks",
   "metadata": {},
   "outputs": [],
   "source": []
  }
 ],
 "metadata": {
  "kernelspec": {
   "display_name": "Python 3",
   "language": "python",
   "name": "python3"
  },
  "language_info": {
   "codemirror_mode": {
    "name": "ipython",
    "version": 3
   },
   "file_extension": ".py",
   "mimetype": "text/x-python",
   "name": "python",
   "nbconvert_exporter": "python",
   "pygments_lexer": "ipython3",
   "version": "3.9.1"
  }
 },
 "nbformat": 4,
 "nbformat_minor": 5
}
