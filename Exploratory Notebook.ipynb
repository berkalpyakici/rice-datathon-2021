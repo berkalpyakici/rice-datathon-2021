{
 "cells": [
  {
   "cell_type": "code",
   "execution_count": 7,
   "id": "breathing-pierce",
   "metadata": {},
   "outputs": [],
   "source": [
    "import pandas as pd\n",
    "import numpy as np\n",
    "\n",
    "df = pd.read_csv(\"data/Purchase_Card_Transactions.csv\")"
   ]
  },
  {
   "cell_type": "code",
   "execution_count": 8,
   "id": "sustainable-escape",
   "metadata": {},
   "outputs": [
    {
     "data": {
      "text/html": [
       "<div>\n",
       "<style scoped>\n",
       "    .dataframe tbody tr th:only-of-type {\n",
       "        vertical-align: middle;\n",
       "    }\n",
       "\n",
       "    .dataframe tbody tr th {\n",
       "        vertical-align: top;\n",
       "    }\n",
       "\n",
       "    .dataframe thead th {\n",
       "        text-align: right;\n",
       "    }\n",
       "</style>\n",
       "<table border=\"1\" class=\"dataframe\">\n",
       "  <thead>\n",
       "    <tr style=\"text-align: right;\">\n",
       "      <th></th>\n",
       "      <th>AGENCY</th>\n",
       "      <th>TRANSACTION_DATE</th>\n",
       "      <th>TRANSACTION_AMOUNT</th>\n",
       "      <th>VENDOR_NAME</th>\n",
       "      <th>VENDOR_STATE_PROVINCE</th>\n",
       "      <th>MCC_DESCRIPTION</th>\n",
       "    </tr>\n",
       "  </thead>\n",
       "  <tbody>\n",
       "    <tr>\n",
       "      <th>0</th>\n",
       "      <td>Department of Mental Health</td>\n",
       "      <td>2009/01/05 05:00:00+00</td>\n",
       "      <td>229.50</td>\n",
       "      <td>WW GRAINGER 912</td>\n",
       "      <td>DC</td>\n",
       "      <td>Industrial Supplies, Not Elsewhere Classified</td>\n",
       "    </tr>\n",
       "    <tr>\n",
       "      <th>1</th>\n",
       "      <td>District Department of Transportation</td>\n",
       "      <td>2009/01/05 05:00:00+00</td>\n",
       "      <td>3147.33</td>\n",
       "      <td>BRANCH SUPPLY</td>\n",
       "      <td>DC</td>\n",
       "      <td>Stationery, Office &amp; School Supply Stores</td>\n",
       "    </tr>\n",
       "    <tr>\n",
       "      <th>2</th>\n",
       "      <td>Department of  Youth Rehabilitation Services</td>\n",
       "      <td>2009/01/05 05:00:00+00</td>\n",
       "      <td>54.00</td>\n",
       "      <td>VIDEO MONITORING SRVCS</td>\n",
       "      <td>NY</td>\n",
       "      <td>Motion Pictures/Video Tape Production&amp;Distribu...</td>\n",
       "    </tr>\n",
       "    <tr>\n",
       "      <th>3</th>\n",
       "      <td>Office of Employee Appeals</td>\n",
       "      <td>2009/01/05 05:00:00+00</td>\n",
       "      <td>137.35</td>\n",
       "      <td>STAPLES       00102186</td>\n",
       "      <td>DC</td>\n",
       "      <td>Stationery,Office Supplies,Printing/Writing Paper</td>\n",
       "    </tr>\n",
       "    <tr>\n",
       "      <th>4</th>\n",
       "      <td>Office of Police Complaints</td>\n",
       "      <td>2009/01/06 05:00:00+00</td>\n",
       "      <td>1340.80</td>\n",
       "      <td>FAITH MGMT CONSULTING</td>\n",
       "      <td>DC</td>\n",
       "      <td>Stationery, Office &amp; School Supply Stores</td>\n",
       "    </tr>\n",
       "  </tbody>\n",
       "</table>\n",
       "</div>"
      ],
      "text/plain": [
       "                                         AGENCY        TRANSACTION_DATE  \\\n",
       "0                   Department of Mental Health  2009/01/05 05:00:00+00   \n",
       "1         District Department of Transportation  2009/01/05 05:00:00+00   \n",
       "2  Department of  Youth Rehabilitation Services  2009/01/05 05:00:00+00   \n",
       "3                    Office of Employee Appeals  2009/01/05 05:00:00+00   \n",
       "4                   Office of Police Complaints  2009/01/06 05:00:00+00   \n",
       "\n",
       "   TRANSACTION_AMOUNT             VENDOR_NAME VENDOR_STATE_PROVINCE  \\\n",
       "0              229.50         WW GRAINGER 912                    DC   \n",
       "1             3147.33           BRANCH SUPPLY                    DC   \n",
       "2               54.00  VIDEO MONITORING SRVCS                    NY   \n",
       "3              137.35  STAPLES       00102186                    DC   \n",
       "4             1340.80   FAITH MGMT CONSULTING                    DC   \n",
       "\n",
       "                                     MCC_DESCRIPTION  \n",
       "0      Industrial Supplies, Not Elsewhere Classified  \n",
       "1          Stationery, Office & School Supply Stores  \n",
       "2  Motion Pictures/Video Tape Production&Distribu...  \n",
       "3  Stationery,Office Supplies,Printing/Writing Paper  \n",
       "4          Stationery, Office & School Supply Stores  "
      ]
     },
     "execution_count": 8,
     "metadata": {},
     "output_type": "execute_result"
    }
   ],
   "source": [
    "df.head()"
   ]
  },
  {
   "cell_type": "code",
   "execution_count": null,
   "id": "outer-error",
   "metadata": {},
   "outputs": [],
   "source": []
  }
 ],
 "metadata": {
  "kernelspec": {
   "display_name": "Python 3",
   "language": "python",
   "name": "python3"
  },
  "language_info": {
   "codemirror_mode": {
    "name": "ipython",
    "version": 3
   },
   "file_extension": ".py",
   "mimetype": "text/x-python",
   "name": "python",
   "nbconvert_exporter": "python",
   "pygments_lexer": "ipython3",
   "version": "3.6.12"
  }
 },
 "nbformat": 4,
 "nbformat_minor": 5
}
