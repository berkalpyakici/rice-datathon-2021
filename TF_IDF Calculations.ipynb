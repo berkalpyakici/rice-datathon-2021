{
 "cells": [
  {
   "cell_type": "code",
   "execution_count": 1,
   "id": "arranged-lawyer",
   "metadata": {},
   "outputs": [],
   "source": [
    "import pandas as pd\n",
    "import numpy as np\n",
    "\n",
    "df = pd.read_csv(\"data/Normalized_Purchase_Card_Transactions.csv\")"
   ]
  },
  {
   "cell_type": "code",
   "execution_count": null,
   "id": "upper-nepal",
   "metadata": {},
   "outputs": [],
   "source": [
    "# calculate the tf_idf\n",
    "# has a couple checks in it to make sure we're not dealing with messy or\n",
    "# incomplete documents also to make sure that the word is in fact in the\n",
    "# doc_arr calculated above, in case something slips through\n",
    "def tf_idf(agency, vendor):\n",
    "    result = np.empty(numWords)\n",
    "    sum_doc = np.sum(doc)\n",
    "    # for each entry in the array, get the index and value\n",
    "    for index, j in anumer(agency):\n",
    "        # TF is a simple, word/total number of words\n",
    "        tf = j/sum_doc\n",
    "        # a check to make sure the word is on of the top-50\n",
    "        if np.take(doc_arr, index) == 0:\n",
    "            result[index] = 0\n",
    "            print(\"result was zero at index \" + index + \" for doc \" + doc)\n",
    "            break\n",
    "        # IDF is log of total number of documents/the number of unique documents with that word + 1\n",
    "        idf = np.log((total_docs/np.take(doc_arr, index)))\n",
    "        # multiply them together to get the TF-IDF for each vector\n",
    "        result[index] = tf * idf\n",
    "    return result\n",
    "\n",
    "# find the TF-IDF for all of the documents\n",
    "corpus_tf_idf = counts.mapValues(tf_idf)"
   ]
  }
 ],
 "metadata": {
  "kernelspec": {
   "display_name": "Python 3",
   "language": "python",
   "name": "python3"
  },
  "language_info": {
   "codemirror_mode": {
    "name": "ipython",
    "version": 3
   },
   "file_extension": ".py",
   "mimetype": "text/x-python",
   "name": "python",
   "nbconvert_exporter": "python",
   "pygments_lexer": "ipython3",
   "version": "3.6.12"
  }
 },
 "nbformat": 4,
 "nbformat_minor": 5
}
