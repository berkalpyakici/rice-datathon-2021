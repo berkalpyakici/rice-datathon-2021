{
 "cells": [
  {
   "cell_type": "code",
   "execution_count": null,
   "id": "sustainable-price",
   "metadata": {},
   "outputs": [],
   "source": [
    "import warnings\n",
    "warnings.simplefilter(action='ignore', category=FutureWarning)\n",
    "\n",
    "import numpy as np\n",
    "import pandas as pd"
   ]
  },
  {
   "cell_type": "code",
   "execution_count": null,
   "id": "focused-guarantee",
   "metadata": {},
   "outputs": [],
   "source": [
    "# Load our data.\n",
    "df = pd.read_csv(\"data/Purchase_Card_Transactions.csv\")\n",
    "df = df.dropna()"
   ]
  },
  {
   "cell_type": "code",
   "execution_count": null,
   "id": "respiratory-occasions",
   "metadata": {},
   "outputs": [],
   "source": [
    "index_names = df[df['TRANSACTION_AMOUNT'] <= 0 ].index \n",
    "# drop these row indexes\n",
    "# from dataFrame \n",
    "df.drop(index_names, inplace = True) "
   ]
  },
  {
   "cell_type": "code",
   "execution_count": null,
   "id": "reserved-lightweight",
   "metadata": {},
   "outputs": [],
   "source": [
    "# Clean the vendor name.\n",
    "# Get rid of all characters except for [a-Z]\n",
    "df['VENDOR_NAME_CLEAN'] = df['VENDOR_NAME'].str.replace(r'\\s+', '_').str.replace(r'\\W+', '').str.replace(r'\\d+', '')"
   ]
  },
  {
   "cell_type": "code",
   "execution_count": null,
   "id": "economic-christmas",
   "metadata": {},
   "outputs": [],
   "source": [
    "# Sort vendors and agencies alphabetically.\n",
    "list_vendors = sorted(df['VENDOR_NAME_CLEAN'].unique().astype(str))\n",
    "list_agencies = sorted(df['AGENCY'].unique().astype(str))"
   ]
  },
  {
   "cell_type": "code",
   "execution_count": null,
   "id": "defined-literature",
   "metadata": {},
   "outputs": [],
   "source": [
    "# Create mapping from vendor and agency names to indices.\n",
    "list_vendors_map = {list_vendors[i]: i for i in range(len(list_vendors))}\n",
    "list_agencies_map = {list_agencies[i]: i for i in range(len(list_agencies))}"
   ]
  },
  {
   "cell_type": "code",
   "execution_count": null,
   "id": "middle-packing",
   "metadata": {},
   "outputs": [],
   "source": [
    "# Create indices.\n",
    "df['VENDOR_NAME_NUM'] = df['VENDOR_NAME_CLEAN'].apply(lambda i: list_vendors_map[i])\n",
    "df['AGENCY_NUM'] = df['AGENCY'].apply(lambda i: list_agencies_map[i])"
   ]
  },
  {
   "cell_type": "code",
   "execution_count": null,
   "id": "maritime-noise",
   "metadata": {},
   "outputs": [],
   "source": [
    "# Create new dataframe.\n",
    "newdf = df[['AGENCY_NUM', 'VENDOR_NAME_NUM', 'TRANSACTION_AMOUNT', 'TRANSACTION_DATE', 'VENDOR_STATE_PROVINCE']].copy(deep = True)"
   ]
  },
  {
   "cell_type": "code",
   "execution_count": null,
   "id": "devoted-decimal",
   "metadata": {},
   "outputs": [],
   "source": [
    "# Save the dataframe.\n",
    "newdf.to_csv(\"data/Cleaned_Purchase_Card_Transactions.csv\")"
   ]
  },
  {
   "cell_type": "code",
   "execution_count": null,
   "id": "distinct-selection",
   "metadata": {},
   "outputs": [],
   "source": [
    "# Save vendors and agencies map as separate csv files.\n",
    "list_vendors_df = pd.DataFrame(list_vendors)\n",
    "list_agencies_df = pd.DataFrame(list_agencies)\n",
    "\n",
    "list_vendors_df.to_csv(\"data/List_Vendors.csv\")\n",
    "list_agencies_df.to_csv(\"data/List_Agencies.csv\")"
   ]
  }
 ],
 "metadata": {
  "kernelspec": {
   "display_name": "Python 3",
   "language": "python",
   "name": "python3"
  },
  "language_info": {
   "codemirror_mode": {
    "name": "ipython",
    "version": 3
   },
   "file_extension": ".py",
   "mimetype": "text/x-python",
   "name": "python",
   "nbconvert_exporter": "python",
   "pygments_lexer": "ipython3",
   "version": "3.9.1"
  }
 },
 "nbformat": 4,
 "nbformat_minor": 5
}
