{
 "cells": [
  {
   "cell_type": "code",
   "execution_count": null,
   "id": "colonial-flush",
   "metadata": {},
   "outputs": [],
   "source": [
    "import warnings\n",
    "warnings.simplefilter(action='ignore', category=FutureWarning)\n",
    "\n",
    "import numpy as np\n",
    "import pandas as pd"
   ]
  },
  {
   "cell_type": "code",
   "execution_count": null,
   "id": "coupled-prescription",
   "metadata": {},
   "outputs": [],
   "source": [
    "# Load our data.\n",
    "df = pd.read_csv(\"data/Purchase_Card_Transactions.csv\")\n",
    "df = df.dropna()"
   ]
  },
  {
   "cell_type": "code",
   "execution_count": null,
   "id": "reserved-venezuela",
   "metadata": {},
   "outputs": [],
   "source": [
    "index_names = df[df['TRANSACTION_AMOUNT'] <= 0 ].index \n",
    "# drop these row indexes\n",
    "# from dataFrame \n",
    "df.drop(index_names, inplace = True) "
   ]
  },
  {
   "cell_type": "code",
   "execution_count": null,
   "id": "fiscal-brisbane",
   "metadata": {},
   "outputs": [],
   "source": [
    "# Clean the vendor name.\n",
    "# Get rid of all characters except for [a-Z]\n",
    "df['VENDOR_NAME_CLEAN'] = df['VENDOR_NAME'].str.replace(r'\\s+', '_').str.replace(r'\\W+', '').str.replace(r'\\d+', '')"
   ]
  },
  {
   "cell_type": "code",
   "execution_count": null,
   "id": "egyptian-savings",
   "metadata": {},
   "outputs": [],
   "source": [
    "# Sort vendors and agencies alphabetically.\n",
    "list_vendors = sorted(df['VENDOR_NAME_CLEAN'].unique().astype(str))\n",
    "list_agencies = sorted(df['AGENCY'].unique().astype(str))"
   ]
  },
  {
   "cell_type": "code",
   "execution_count": null,
   "id": "convertible-norwegian",
   "metadata": {},
   "outputs": [],
   "source": [
    "# Create mapping from vendor and agency names to indices.\n",
    "list_vendors_map = {list_vendors[i]: i for i in range(len(list_vendors))}\n",
    "list_agencies_map = {list_agencies[i]: i for i in range(len(list_agencies))}"
   ]
  },
  {
   "cell_type": "code",
   "execution_count": null,
   "id": "infectious-snapshot",
   "metadata": {},
   "outputs": [],
   "source": [
    "# Create indices.\n",
    "df['VENDOR_NAME_NUM'] = df['VENDOR_NAME_CLEAN'].apply(lambda i: list_vendors_map[i])\n",
    "df['AGENCY_NUM'] = df['AGENCY'].apply(lambda i: list_agencies_map[i])"
   ]
  },
  {
   "cell_type": "code",
   "execution_count": null,
   "id": "responsible-source",
   "metadata": {},
   "outputs": [],
   "source": [
    "# Create new dataframe.\n",
    "newdf = df[['AGENCY_NUM', 'VENDOR_NAME_NUM', 'TRANSACTION_AMOUNT', 'TRANSACTION_DATE', 'VENDOR_STATE_PROVINCE']].copy(deep = True)"
   ]
  },
  {
   "cell_type": "code",
   "execution_count": null,
   "id": "valued-printer",
   "metadata": {},
   "outputs": [],
   "source": [
    "# Save the dataframe.\n",
    "newdf.to_csv(\"data/Cleaned_Purchase_Card_Transactions.csv\")"
   ]
  },
  {
   "cell_type": "code",
   "execution_count": null,
   "id": "selected-timing",
   "metadata": {},
   "outputs": [],
   "source": [
    "# Save vendors and agencies map as separate csv files.\n",
    "list_vendors_df = pd.DataFrame(list_vendors)\n",
    "list_agencies_df = pd.DataFrame(list_agencies)\n",
    "\n",
    "list_vendors_df.to_csv(\"data/List_Vendors.csv\")\n",
    "list_agencies_df.to_csv(\"data/List_Agencies.csv\")"
   ]
  },
  {
   "cell_type": "code",
   "execution_count": null,
   "id": "amber-legend",
   "metadata": {},
   "outputs": [],
   "source": [
    "# Normalization\n",
    "min_transaction_amount = newnormdf.groupby(['VENDOR_NAME_NUM'])['TRANSACTION_AMOUNT'].min()\n",
    "max_transaction_amount = newnormdf.groupby(['VENDOR_NAME_NUM'])['TRANSACTION_AMOUNT'].max()"
   ]
  },
  {
   "cell_type": "code",
   "execution_count": null,
   "id": "sudden-project",
   "metadata": {},
   "outputs": [],
   "source": [
    "grouper = df.groupby('VENDOR_NAME_NUM')['TRANSACTION_AMOUNT']\n",
    "maxes = grouper.transform('max')\n",
    "mins = grouper.transform('min')"
   ]
  },
  {
   "cell_type": "code",
   "execution_count": null,
   "id": "useful-private",
   "metadata": {},
   "outputs": [],
   "source": [
    "newnormdf = newdf.assign(TRANSACTION_AMOUNT_NORM = (newdf.TRANSACTION_AMOUNT - mins) / (maxes - mins))\n",
    "newnormdf = newnormdf.dropna()"
   ]
  },
  {
   "cell_type": "code",
   "execution_count": null,
   "id": "reasonable-rainbow",
   "metadata": {},
   "outputs": [],
   "source": [
    "# Save the dataframe.\n",
    "newnormdf.to_csv(\"data/Normalized_Purchase_Card_Transactions.csv\")"
   ]
  }
 ],
 "metadata": {
  "kernelspec": {
   "display_name": "Python 3",
   "language": "python",
   "name": "python3"
  },
  "language_info": {
   "codemirror_mode": {
    "name": "ipython",
    "version": 3
   },
   "file_extension": ".py",
   "mimetype": "text/x-python",
   "name": "python",
   "nbconvert_exporter": "python",
   "pygments_lexer": "ipython3",
   "version": "3.9.1"
  }
 },
 "nbformat": 4,
 "nbformat_minor": 5
}
