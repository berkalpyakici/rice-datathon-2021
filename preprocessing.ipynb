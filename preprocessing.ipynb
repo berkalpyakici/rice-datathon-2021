{
 "cells": [
  {
   "cell_type": "code",
   "execution_count": 26,
   "id": "leading-appraisal",
   "metadata": {},
   "outputs": [],
   "source": [
    "import warnings\n",
    "warnings.simplefilter(action='ignore', category=FutureWarning)\n",
    "\n",
    "import numpy as np\n",
    "import pandas as pd"
   ]
  },
  {
   "cell_type": "code",
   "execution_count": 27,
   "id": "vertical-discipline",
   "metadata": {},
   "outputs": [],
   "source": [
    "# Load our data.\n",
    "df = pd.read_csv(\"data/Purchase_Card_Transactions.csv\")\n",
    "df = df.dropna()"
   ]
  },
  {
   "cell_type": "code",
   "execution_count": 28,
   "id": "disabled-walnut",
   "metadata": {},
   "outputs": [
    {
     "data": {
      "text/plain": [
       "Stationery, Office & School Supply Stores             22884\n",
       "Stationery,Office Supplies,Printing/Writing Paper     16396\n",
       "Business Services Not Elsewhere Classified            15096\n",
       "BOOK STORES                                           14531\n",
       "Local/Suburban Commuter Transportation                14522\n",
       "Computers,Computer Peripheral Equipment, Software      9722\n",
       "Charitable And Social Service Organizations            8200\n",
       "Membership Organizations, Not Elsewhere Classified     7760\n",
       "Educational Services, Not Elsewhere Classified         7721\n",
       "Specialty Retail Stores-Miscellaneous                  7432\n",
       "Government Services, Not Elsewhere Classified          6674\n",
       "Industrial Supplies, Not Elsewhere Classified          6422\n",
       "Professional Services Not Elsewhere Classified         6083\n",
       "Direct Marketing-Not Elsewhere Classified              6082\n",
       "Home Supply Warehouse Stores                           5762\n",
       "Direct Marketing - Comb. Catalog &Retail Merchants     5713\n",
       "Computer Software Stores                               5181\n",
       "Miscellaneous Publishing And Printing                  4948\n",
       "Courier Services-Air Or Ground, Freight Forwarders     4873\n",
       "Name: MCC_DESCRIPTION, dtype: int64"
      ]
     },
     "execution_count": 28,
     "metadata": {},
     "output_type": "execute_result"
    }
   ],
   "source": [
    "df['MCC_DESCRIPTION'].value_counts()[1:20]"
   ]
  },
  {
   "cell_type": "code",
   "execution_count": 29,
   "id": "fifteen-merchandise",
   "metadata": {},
   "outputs": [],
   "source": [
    "index_names = df[df['TRANSACTION_AMOUNT'] <= 0 ].index \n",
    "# drop these row indexes\n",
    "# from dataFrame \n",
    "df.drop(index_names, inplace = True) "
   ]
  },
  {
   "cell_type": "code",
   "execution_count": 30,
   "id": "about-marketing",
   "metadata": {},
   "outputs": [],
   "source": [
    "# Clean the vendor name.\n",
    "# Get rid of all characters except for [wa-Z]\n",
    "df['VENDOR_NAME_CLEAN'] = df['VENDOR_NAME'].str.replace(r'\\s+', '_').str.replace(r'\\W+', '').str.replace(r'\\d+', '')"
   ]
  },
  {
   "cell_type": "code",
   "execution_count": 31,
   "id": "automotive-saturday",
   "metadata": {},
   "outputs": [],
   "source": [
    "# Sort vendors and agencies alphabetically.\n",
    "list_vendors = sorted(df['VENDOR_NAME_CLEAN'].unique().astype(str))\n",
    "list_agencies = sorted(df['AGENCY'].unique().astype(str))"
   ]
  },
  {
   "cell_type": "code",
   "execution_count": 32,
   "id": "greek-swing",
   "metadata": {},
   "outputs": [],
   "source": [
    "# Create mapping from vendor and agency names to indices.\n",
    "list_vendors_map = {list_vendors[i]: i for i in range(len(list_vendors))}\n",
    "list_agencies_map = {list_agencies[i]: i for i in range(len(list_agencies))}"
   ]
  },
  {
   "cell_type": "code",
   "execution_count": 33,
   "id": "warming-domestic",
   "metadata": {},
   "outputs": [],
   "source": [
    "# Create indices.\n",
    "df['VENDOR_NAME_NUM'] = df['VENDOR_NAME_CLEAN'].apply(lambda i: list_vendors_map[i])\n",
    "df['AGENCY_NUM'] = df['AGENCY'].apply(lambda i: list_agencies_map[i])"
   ]
  },
  {
   "cell_type": "code",
   "execution_count": 34,
   "id": "roman-currency",
   "metadata": {},
   "outputs": [],
   "source": [
    "# Create new dataframe.\n",
    "newdf = df[['AGENCY_NUM', 'VENDOR_NAME_NUM', 'TRANSACTION_AMOUNT', 'TRANSACTION_DATE', 'VENDOR_STATE_PROVINCE', 'MCC_DESCRIPTION']].copy(deep = True)"
   ]
  },
  {
   "cell_type": "code",
   "execution_count": 35,
   "id": "broadband-utility",
   "metadata": {},
   "outputs": [],
   "source": [
    "# Save the dataframe.\n",
    "newdf.to_csv(\"data/Cleaned_Purchase_Card_Transactions.csv\")"
   ]
  },
  {
   "cell_type": "code",
   "execution_count": 36,
   "id": "anonymous-restoration",
   "metadata": {},
   "outputs": [],
   "source": [
    "# Save vendors and agencies map as separate csv files.\n",
    "list_vendors_df = pd.DataFrame(list_vendors)\n",
    "list_agencies_df = pd.DataFrame(list_agencies)\n",
    "\n",
    "list_vendors_df.to_csv(\"data/List_Vendors.csv\")\n",
    "list_agencies_df.to_csv(\"data/List_Agencies.csv\")"
   ]
  },
  {
   "cell_type": "code",
   "execution_count": 37,
   "id": "worth-gender",
   "metadata": {},
   "outputs": [],
   "source": [
    "# Normalization\n",
    "grouper = df.groupby('VENDOR_NAME_NUM')['TRANSACTION_AMOUNT']\n",
    "maxes = grouper.transform('max')\n",
    "mins = grouper.transform('min')"
   ]
  },
  {
   "cell_type": "code",
   "execution_count": 38,
   "id": "yellow-minutes",
   "metadata": {},
   "outputs": [],
   "source": [
    "newnormdf = newdf.assign(TRANSACTION_AMOUNT_NORM = (newdf.TRANSACTION_AMOUNT - mins) / (maxes - mins))\n",
    "newnormdf = newnormdf.dropna()"
   ]
  },
  {
   "cell_type": "code",
   "execution_count": 39,
   "id": "whole-virtue",
   "metadata": {},
   "outputs": [],
   "source": [
    "# Save the dataframe.\n",
    "newnormdf.to_csv(\"data/Normalized_Purchase_Card_Transactions.csv\")"
   ]
  },
  {
   "cell_type": "code",
   "execution_count": null,
   "id": "collaborative-bedroom",
   "metadata": {},
   "outputs": [],
   "source": []
  }
 ],
 "metadata": {
  "kernelspec": {
   "display_name": "Python 3",
   "language": "python",
   "name": "python3"
  },
  "language_info": {
   "codemirror_mode": {
    "name": "ipython",
    "version": 3
   },
   "file_extension": ".py",
   "mimetype": "text/x-python",
   "name": "python",
   "nbconvert_exporter": "python",
   "pygments_lexer": "ipython3",
   "version": "3.6.12"
  }
 },
 "nbformat": 4,
 "nbformat_minor": 5
}
